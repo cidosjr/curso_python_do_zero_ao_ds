{
 "cells": [
  {
   "cell_type": "code",
   "execution_count": 17,
   "id": "taken-place",
   "metadata": {
    "ExecuteTime": {
     "end_time": "2021-07-19T22:30:17.966698Z",
     "start_time": "2021-07-19T22:30:17.134519Z"
    }
   },
   "outputs": [],
   "source": [
    "import pandas as pd\n",
    "import numpy as np\n",
    "import seaborn as sns\n",
    "import matplotlib.pyplot as plt\n",
    "\n",
    "from sklearn.datasets import load_wine\n",
    "from sklearn.preprocessing import StandardScaler\n",
    "from sklearn.decomposition import PCA"
   ]
  },
  {
   "cell_type": "code",
   "execution_count": 3,
   "id": "considerable-supplement",
   "metadata": {
    "ExecuteTime": {
     "end_time": "2021-07-19T22:26:37.667711Z",
     "start_time": "2021-07-19T22:26:37.655460Z"
    }
   },
   "outputs": [],
   "source": [
    "wine = load_wine()\n",
    "X = wine.data\n",
    "y = wine.target\n",
    "\n",
    "# feature names\n",
    "feat_names = wine.feature_names\n",
    "\n",
    "# target names\n",
    "target_names = wine.target_names"
   ]
  },
  {
   "cell_type": "code",
   "execution_count": 4,
   "id": "continuous-marker",
   "metadata": {
    "ExecuteTime": {
     "end_time": "2021-07-19T22:26:43.852444Z",
     "start_time": "2021-07-19T22:26:43.838864Z"
    }
   },
   "outputs": [
    {
     "data": {
      "text/plain": [
       "(178, 13)"
      ]
     },
     "execution_count": 4,
     "metadata": {},
     "output_type": "execute_result"
    }
   ],
   "source": [
    "X.shape"
   ]
  },
  {
   "cell_type": "code",
   "execution_count": 5,
   "id": "rising-study",
   "metadata": {
    "ExecuteTime": {
     "end_time": "2021-07-19T22:26:46.965735Z",
     "start_time": "2021-07-19T22:26:46.959023Z"
    }
   },
   "outputs": [
    {
     "data": {
      "text/plain": [
       "(178,)"
      ]
     },
     "execution_count": 5,
     "metadata": {},
     "output_type": "execute_result"
    }
   ],
   "source": [
    "y.shape"
   ]
  },
  {
   "cell_type": "code",
   "execution_count": 14,
   "id": "buried-organization",
   "metadata": {
    "ExecuteTime": {
     "end_time": "2021-07-19T22:29:11.358801Z",
     "start_time": "2021-07-19T22:29:11.349192Z"
    }
   },
   "outputs": [],
   "source": [
    "scaler = StandardScaler()\n",
    "\n",
    "X_scaled = scaler.fit_transform(X)"
   ]
  },
  {
   "cell_type": "code",
   "execution_count": 15,
   "id": "junior-toolbox",
   "metadata": {
    "ExecuteTime": {
     "end_time": "2021-07-19T22:29:11.831682Z",
     "start_time": "2021-07-19T22:29:11.808688Z"
    }
   },
   "outputs": [],
   "source": [
    "pca = PCA(n_components=2)\n",
    "\n",
    "X_reduced = pca.fit_transform(X_scaled)"
   ]
  },
  {
   "cell_type": "code",
   "execution_count": 16,
   "id": "upset-surgeon",
   "metadata": {
    "ExecuteTime": {
     "end_time": "2021-07-19T22:29:35.180562Z",
     "start_time": "2021-07-19T22:29:35.173218Z"
    }
   },
   "outputs": [
    {
     "name": "stdout",
     "output_type": "stream",
     "text": [
      "(178, 13) (178, 2)\n"
     ]
    }
   ],
   "source": [
    "print(X.shape, X_reduced.shape)"
   ]
  },
  {
   "cell_type": "code",
   "execution_count": null,
   "id": "stone-binary",
   "metadata": {},
   "outputs": [],
   "source": []
  },
  {
   "cell_type": "code",
   "execution_count": null,
   "id": "imported-mattress",
   "metadata": {},
   "outputs": [],
   "source": []
  },
  {
   "cell_type": "code",
   "execution_count": null,
   "id": "varied-roulette",
   "metadata": {},
   "outputs": [],
   "source": []
  },
  {
   "cell_type": "code",
   "execution_count": null,
   "id": "quarterly-battlefield",
   "metadata": {},
   "outputs": [],
   "source": []
  },
  {
   "cell_type": "code",
   "execution_count": null,
   "id": "digital-spanking",
   "metadata": {},
   "outputs": [],
   "source": []
  },
  {
   "cell_type": "code",
   "execution_count": null,
   "id": "municipal-ethnic",
   "metadata": {},
   "outputs": [],
   "source": []
  },
  {
   "cell_type": "code",
   "execution_count": null,
   "id": "wanted-roommate",
   "metadata": {},
   "outputs": [],
   "source": []
  },
  {
   "cell_type": "code",
   "execution_count": null,
   "id": "suspected-midnight",
   "metadata": {},
   "outputs": [],
   "source": []
  },
  {
   "cell_type": "code",
   "execution_count": null,
   "id": "killing-sphere",
   "metadata": {},
   "outputs": [],
   "source": []
  },
  {
   "cell_type": "code",
   "execution_count": null,
   "id": "distributed-kingdom",
   "metadata": {},
   "outputs": [],
   "source": []
  },
  {
   "cell_type": "code",
   "execution_count": null,
   "id": "quiet-training",
   "metadata": {},
   "outputs": [],
   "source": []
  }
 ],
 "metadata": {
  "kernelspec": {
   "display_name": "Python 3",
   "language": "python",
   "name": "python3"
  },
  "language_info": {
   "codemirror_mode": {
    "name": "ipython",
    "version": 3
   },
   "file_extension": ".py",
   "mimetype": "text/x-python",
   "name": "python",
   "nbconvert_exporter": "python",
   "pygments_lexer": "ipython3",
   "version": "3.8.0"
  }
 },
 "nbformat": 4,
 "nbformat_minor": 5
}
